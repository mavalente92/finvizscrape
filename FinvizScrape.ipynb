{
  "nbformat": 4,
  "nbformat_minor": 0,
  "metadata": {
    "colab": {
      "name": "FinvizScrape.ipynb",
      "provenance": [],
      "collapsed_sections": []
    },
    "kernelspec": {
      "name": "python3",
      "display_name": "Python 3"
    }
  },
  "cells": [
    {
      "cell_type": "code",
      "metadata": {
        "colab": {
          "base_uri": "https://localhost:8080/"
        },
        "id": "ZabkRgvkLk7t",
        "outputId": "38e22795-99b3-4656-b18f-a75bc25a9b36"
      },
      "source": [
        "#scarica il pacchetto finvizscrape\r\n",
        "pip install -i https://test.pypi.org/simple/ finvizscrape"
      ],
      "execution_count": null,
      "outputs": [
        {
          "output_type": "stream",
          "text": [
            "Looking in indexes: https://test.pypi.org/simple/\n",
            "Collecting finvizscrape\n",
            "  Downloading https://test-files.pythonhosted.org/packages/20/1a/6c80de1b683071951e0a06076a928db3e70c26791c5c7b2314bcdb5b740e/finvizscrape-1.0.0-py3-none-any.whl\n",
            "Requirement already satisfied: pandas in /usr/local/lib/python3.6/dist-packages (from finvizscrape) (1.1.5)\n",
            "Requirement already satisfied: requests in /usr/local/lib/python3.6/dist-packages (from finvizscrape) (2.23.0)\n",
            "Requirement already satisfied: lxml in /usr/local/lib/python3.6/dist-packages (from finvizscrape) (4.2.6)\n",
            "Requirement already satisfied: bs4 in /usr/local/lib/python3.6/dist-packages (from finvizscrape) (0.0.1)\n",
            "Requirement already satisfied: numpy>=1.15.4 in /usr/local/lib/python3.6/dist-packages (from pandas->finvizscrape) (1.19.5)\n",
            "Requirement already satisfied: python-dateutil>=2.7.3 in /usr/local/lib/python3.6/dist-packages (from pandas->finvizscrape) (2.8.1)\n",
            "Requirement already satisfied: pytz>=2017.2 in /usr/local/lib/python3.6/dist-packages (from pandas->finvizscrape) (2018.9)\n",
            "Requirement already satisfied: certifi>=2017.4.17 in /usr/local/lib/python3.6/dist-packages (from requests->finvizscrape) (2020.12.5)\n",
            "Requirement already satisfied: idna<3,>=2.5 in /usr/local/lib/python3.6/dist-packages (from requests->finvizscrape) (2.10)\n",
            "Requirement already satisfied: chardet<4,>=3.0.2 in /usr/local/lib/python3.6/dist-packages (from requests->finvizscrape) (3.0.4)\n",
            "Requirement already satisfied: urllib3!=1.25.0,!=1.25.1,<1.26,>=1.21.1 in /usr/local/lib/python3.6/dist-packages (from requests->finvizscrape) (1.24.3)\n",
            "Requirement already satisfied: beautifulsoup4 in /usr/local/lib/python3.6/dist-packages (from bs4->finvizscrape) (4.6.3)\n",
            "Requirement already satisfied: six>=1.5 in /usr/local/lib/python3.6/dist-packages (from python-dateutil>=2.7.3->pandas->finvizscrape) (1.15.0)\n",
            "Installing collected packages: finvizscrape\n",
            "Successfully installed finvizscrape-1.0.0\n"
          ],
          "name": "stdout"
        }
      ]
    },
    {
      "cell_type": "code",
      "metadata": {
        "id": "EV5m77qHvWPe"
      },
      "source": [
        "#importa\r\n",
        "\r\n",
        "import requests\r\n",
        "from bs4 import BeautifulSoup\r\n",
        "import pandas as pd\r\n",
        "import time\r\n",
        "import finvizscrape as fs"
      ],
      "execution_count": null,
      "outputs": []
    },
    {
      "cell_type": "code",
      "metadata": {
        "id": "MTZQ9Ti-M6F_"
      },
      "source": [
        "#per scaricare Overview https://finviz.com/screener.ashx?v=111\r\n",
        "#per scaricare Valutation https://finviz.com/screener.ashx?v=121\r\n",
        "#per scaricare Financial https://finviz.com/screener.ashx?v=161\r\n",
        "#per scaricare Ownership https://finviz.com/screener.ashx?v=131\r\n",
        "#per scaricare Performance https://finviz.com/screener.ashx?v=141\r\n",
        "#per scaricare Technical https://finviz.com/screener.ashx?v=171\r\n",
        "\r\n",
        "#sostituisci questi link con quello sottastante per scaricare i vari Screener\r\n",
        "#se vuoi fare più csv cambiare il nome 'all_tickers' a piacimento per non sovrascrivere il file di volta in volta"
      ],
      "execution_count": null,
      "outputs": []
    },
    {
      "cell_type": "code",
      "metadata": {
        "colab": {
          "base_uri": "https://localhost:8080/",
          "height": 241
        },
        "id": "-gkryisCxNAZ",
        "outputId": "c9fd6cf6-8309-49ec-dc50-96d3c4219f66"
      },
      "source": [
        "#in qeusto caso scaricao financial\r\n",
        "df = fl.scrape_all(\"https://finviz.com/screener.ashx?v=161\")\r\n",
        "df.head()"
      ],
      "execution_count": null,
      "outputs": [
        {
          "output_type": "execute_result",
          "data": {
            "text/html": [
              "<div>\n",
              "<style scoped>\n",
              "    .dataframe tbody tr th:only-of-type {\n",
              "        vertical-align: middle;\n",
              "    }\n",
              "\n",
              "    .dataframe tbody tr th {\n",
              "        vertical-align: top;\n",
              "    }\n",
              "\n",
              "    .dataframe thead th {\n",
              "        text-align: right;\n",
              "    }\n",
              "</style>\n",
              "<table border=\"1\" class=\"dataframe\">\n",
              "  <thead>\n",
              "    <tr style=\"text-align: right;\">\n",
              "      <th></th>\n",
              "      <th>No.</th>\n",
              "      <th>Ticker</th>\n",
              "      <th>Market Cap</th>\n",
              "      <th>Dividend</th>\n",
              "      <th>ROA</th>\n",
              "      <th>ROE</th>\n",
              "      <th>ROI</th>\n",
              "      <th>Curr R</th>\n",
              "      <th>Quick R</th>\n",
              "      <th>LTDebt/Eq</th>\n",
              "      <th>Debt/Eq</th>\n",
              "      <th>Gross M</th>\n",
              "      <th>Oper M</th>\n",
              "      <th>Profit M</th>\n",
              "      <th>Earnings</th>\n",
              "      <th>Price</th>\n",
              "      <th>Change</th>\n",
              "      <th>Volume</th>\n",
              "    </tr>\n",
              "  </thead>\n",
              "  <tbody>\n",
              "    <tr>\n",
              "      <th>0</th>\n",
              "      <td>1</td>\n",
              "      <td>A</td>\n",
              "      <td>39.25B</td>\n",
              "      <td>0.61%</td>\n",
              "      <td>7.50%</td>\n",
              "      <td>14.80%</td>\n",
              "      <td>10.00%</td>\n",
              "      <td>2.30</td>\n",
              "      <td>1.80</td>\n",
              "      <td>0.47</td>\n",
              "      <td>0.48</td>\n",
              "      <td>53.10%</td>\n",
              "      <td>15.80%</td>\n",
              "      <td>13.50%</td>\n",
              "      <td>Nov 23/a</td>\n",
              "      <td>128.11</td>\n",
              "      <td>0.60%</td>\n",
              "      <td>1,842,980</td>\n",
              "    </tr>\n",
              "    <tr>\n",
              "      <th>1</th>\n",
              "      <td>2</td>\n",
              "      <td>AA</td>\n",
              "      <td>4.58B</td>\n",
              "      <td>-</td>\n",
              "      <td>-3.40%</td>\n",
              "      <td>-12.10%</td>\n",
              "      <td>-9.60%</td>\n",
              "      <td>1.80</td>\n",
              "      <td>1.20</td>\n",
              "      <td>0.75</td>\n",
              "      <td>0.75</td>\n",
              "      <td>13.80%</td>\n",
              "      <td>-0.20%</td>\n",
              "      <td>-5.00%</td>\n",
              "      <td>Jan 20/a</td>\n",
              "      <td>22.84</td>\n",
              "      <td>-1.08%</td>\n",
              "      <td>5,578,332</td>\n",
              "    </tr>\n",
              "    <tr>\n",
              "      <th>2</th>\n",
              "      <td>3</td>\n",
              "      <td>AAAU</td>\n",
              "      <td>-</td>\n",
              "      <td>-</td>\n",
              "      <td>-</td>\n",
              "      <td>-</td>\n",
              "      <td>-</td>\n",
              "      <td>-</td>\n",
              "      <td>-</td>\n",
              "      <td>-</td>\n",
              "      <td>-</td>\n",
              "      <td>-</td>\n",
              "      <td>-</td>\n",
              "      <td>-</td>\n",
              "      <td>-</td>\n",
              "      <td>18.63</td>\n",
              "      <td>1.75%</td>\n",
              "      <td>355,521</td>\n",
              "    </tr>\n",
              "    <tr>\n",
              "      <th>3</th>\n",
              "      <td>4</td>\n",
              "      <td>AACG</td>\n",
              "      <td>43.81M</td>\n",
              "      <td>-</td>\n",
              "      <td>-16.40%</td>\n",
              "      <td>-38.80%</td>\n",
              "      <td>-45.00%</td>\n",
              "      <td>0.50</td>\n",
              "      <td>0.50</td>\n",
              "      <td>0.00</td>\n",
              "      <td>0.01</td>\n",
              "      <td>34.50%</td>\n",
              "      <td>-</td>\n",
              "      <td>-68.30%</td>\n",
              "      <td>Nov 12/a</td>\n",
              "      <td>1.38</td>\n",
              "      <td>5.84%</td>\n",
              "      <td>206,115</td>\n",
              "    </tr>\n",
              "    <tr>\n",
              "      <th>4</th>\n",
              "      <td>5</td>\n",
              "      <td>AACQ</td>\n",
              "      <td>778.84M</td>\n",
              "      <td>-</td>\n",
              "      <td>-</td>\n",
              "      <td>-</td>\n",
              "      <td>-</td>\n",
              "      <td>-</td>\n",
              "      <td>-</td>\n",
              "      <td>-</td>\n",
              "      <td>-</td>\n",
              "      <td>-</td>\n",
              "      <td>-</td>\n",
              "      <td>-</td>\n",
              "      <td>-</td>\n",
              "      <td>10.75</td>\n",
              "      <td>-0.83%</td>\n",
              "      <td>1,159,948</td>\n",
              "    </tr>\n",
              "  </tbody>\n",
              "</table>\n",
              "</div>"
            ],
            "text/plain": [
              "  No. Ticker Market Cap Dividend  ...  Earnings   Price  Change     Volume\n",
              "0   1      A     39.25B    0.61%  ...  Nov 23/a  128.11   0.60%  1,842,980\n",
              "1   2     AA      4.58B        -  ...  Jan 20/a   22.84  -1.08%  5,578,332\n",
              "2   3   AAAU          -        -  ...         -   18.63   1.75%    355,521\n",
              "3   4   AACG     43.81M        -  ...  Nov 12/a    1.38   5.84%    206,115\n",
              "4   5   AACQ    778.84M        -  ...         -   10.75  -0.83%  1,159,948\n",
              "\n",
              "[5 rows x 18 columns]"
            ]
          },
          "metadata": {
            "tags": []
          },
          "execution_count": 17
        }
      ]
    },
    {
      "cell_type": "code",
      "metadata": {
        "id": "8aQa-Ts0x8_A"
      },
      "source": [
        "#per salvare i dati in csv\r\n",
        "df.to_csv(\"all_tickers.csv\", index=False)"
      ],
      "execution_count": null,
      "outputs": []
    }
  ]
}